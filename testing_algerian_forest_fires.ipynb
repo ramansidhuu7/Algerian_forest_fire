{
 "cells": [
  {
   "cell_type": "markdown",
   "id": "176d4040",
   "metadata": {},
   "source": [
    "Name: Ramandeep Singh\n",
    "student_id: c0904415"
   ]
  },
  {
   "cell_type": "markdown",
   "id": "fef205c5",
   "metadata": {},
   "source": [
    "# 4. Model Evaluation and Testing\n",
    "Comprehensive evaluation of model performance using appropriate metrics. Testing the model on unseen data and providing a thorough analysis of results."
   ]
  },
  {
   "cell_type": "code",
   "execution_count": 1,
   "id": "543e401a",
   "metadata": {},
   "outputs": [],
   "source": [
    "import pickle  # Import the pickle module for loading saved objects\n",
    "\n",
    "# Load the previously saved StandardScaler model from a .pkl file\n",
    "sc = pickle.load(open('scaler.pkl', 'rb'))\n"
   ]
  },
  {
   "cell_type": "code",
   "execution_count": 2,
   "id": "3b7559bf",
   "metadata": {},
   "outputs": [],
   "source": [
    "import pickle  # Import the pickle module for loading saved objects\n",
    "\n",
    "# Load the polynomial regression model from a .pkl file\n",
    "poly = pickle.load(open('poly_regression.pkl', 'rb'))\n",
    "\n",
    "# Load the Ridge regression model from a .pkl file\n",
    "ridge = pickle.load(open('ridge_model.pkl', 'rb'))\n",
    "\n",
    "# Load the Lasso regression model from a .pkl file\n",
    "lasso = pickle.load(open('lasso_model.pkl', 'rb'))\n",
    "\n",
    "# Load the Linear Regression model from a .pkl file\n",
    "lr = pickle.load(open('linear_regression_model.pkl', 'rb'))\n",
    "\n",
    "# Load the ElasticNet model from a .pkl file\n",
    "en = pickle.load(open('elasticnet_model.pkl', 'rb'))\n",
    "\n",
    "# Load the Ridge regression model that was optimized with cross-validation\n",
    "ridge_CV = pickle.load(open('cross_validation_model_ridge.pkl', 'rb'))\n",
    "\n",
    "# Load the Lasso regression model that was optimized with cross-validation\n",
    "lasso_CV = pickle.load(open('cross_validation_model_lasso.pkl', 'rb'))\n",
    "\n",
    "# Load the ElasticNet model that was optimized with cross-validation\n",
    "elasticnet_CV = pickle.load(open('cross_validation_model_elasticnet.pkl', 'rb'))\n",
    "\n",
    "# Load the hyperparameter-tuned Ridge regression model from a .pkl file\n",
    "ridge_ht = pickle.load(open('hyperparameter_tuned_ridge.pkl', 'rb'))\n",
    "\n",
    "# Load the hyperparameter-tuned Lasso regression model from a .pkl file\n",
    "lasso_ht = pickle.load(open('hyperparameter_tuned_lasso.pkl', 'rb'))\n",
    "\n",
    "# Load the hyperparameter-tuned ElasticNet regression model from a .pkl file\n",
    "elasticnet_ht = pickle.load(open('hyperparameter_tuned_elasticnet.pkl', 'rb'))\n"
   ]
  },
  {
   "cell_type": "code",
   "execution_count": 3,
   "id": "0c3e5637",
   "metadata": {},
   "outputs": [],
   "source": [
    "unknown_data = {\n",
    "    'Temperature': [21.0, 26.5, 28.3, 30.0, 34.0, 37.0, 39.5, 22.0, 26.8, 31.2],\n",
    "    'RH': [20, 23, 60, 85, 42, 70, 45, 35, 40, 50],\n",
    "    'Ws': [20, 6, 9, 12.0, 22, 27, 14, 16.5, 15, 18],\n",
    "    'Rain': [2, 5, 6, 8, 9, 13, 3.0, 12, 10, 8.0],\n",
    "    'FFMC': [32, 40, 45, 58, 31.5, 92, 82, 80, 68, 66],\n",
    "    'DMC': [5, 48, 50, 35, 27, 60, 29, 57, 41, 11],\n",
    "    'DC': [9, 95, 205, 100, 200, 150, 165, 140, 180, 190],\n",
    "    'ISI': [6, 7, 19, 13, 2.0, 16, 3.0, 9, 10, 14],\n",
    "    'BUI': [62, 54, 12, 25, 6, 40, 65, 20, 58, 22],\n",
    "    'FWI': [3.0, 23, 7, 8, 12, 29, 28, 21, 18, 19.0]\n",
    "}\n"
   ]
  },
  {
   "cell_type": "code",
   "execution_count": 4,
   "id": "af402ec7",
   "metadata": {},
   "outputs": [],
   "source": [
    "import pandas as pd\n"
   ]
  },
  {
   "cell_type": "code",
   "execution_count": 5,
   "id": "206fbce1",
   "metadata": {},
   "outputs": [
    {
     "name": "stdout",
     "output_type": "stream",
     "text": [
      "   Temperature  RH    Ws  Rain  FFMC  DMC   DC   ISI  BUI   FWI\n",
      "0         21.0  20  20.0   2.0  32.0    5    9   6.0   62   3.0\n",
      "1         26.5  23   6.0   5.0  40.0   48   95   7.0   54  23.0\n",
      "2         28.3  60   9.0   6.0  45.0   50  205  19.0   12   7.0\n",
      "3         30.0  85  12.0   8.0  58.0   35  100  13.0   25   8.0\n",
      "4         34.0  42  22.0   9.0  31.5   27  200   2.0    6  12.0\n",
      "5         37.0  70  27.0  13.0  92.0   60  150  16.0   40  29.0\n",
      "6         39.5  45  14.0   3.0  82.0   29  165   3.0   65  28.0\n",
      "7         22.0  35  16.5  12.0  80.0   57  140   9.0   20  21.0\n",
      "8         26.8  40  15.0  10.0  68.0   41  180  10.0   58  18.0\n",
      "9         31.2  50  18.0   8.0  66.0   11  190  14.0   22  19.0\n"
     ]
    }
   ],
   "source": [
    "# Converting the dictionary into a DataFrame\n",
    "df = pd.DataFrame(unknown_data)\n",
    "\n",
    "# Displaying the DataFrame\n",
    "print(df)"
   ]
  },
  {
   "cell_type": "code",
   "execution_count": 6,
   "id": "1fd10c2b",
   "metadata": {},
   "outputs": [
    {
     "name": "stdout",
     "output_type": "stream",
     "text": [
      "Predictions from Ridge Regression: [-0.87498342 -0.27763929  0.27729379  0.69463764 -0.56174098  1.64910973\n",
      "  0.92670381  0.7552974   0.6479302   0.9911363 ]\n",
      "Predictions from Lasso Regression: [0.56701031 0.56701031 0.56701031 0.56701031 0.56701031 0.56701031\n",
      " 0.56701031 0.56701031 0.56701031 0.56701031]\n",
      "Predictions from Linear Regression: [-0.11495329 -0.19915883 -0.46269056  0.48911889 -1.07969344  1.33533419\n",
      "  1.30543762  0.20308972  0.7322202   0.904315  ]\n",
      "Predictions from ElasticNet: [0.56701031 0.56701031 0.56701031 0.56701031 0.56701031 0.56701031\n",
      " 0.56701031 0.56701031 0.56701031 0.56701031]\n",
      "Predictions from Ridge CV: [-0.87498342 -0.27763929  0.27729379  0.69463764 -0.56174098  1.64910973\n",
      "  0.92670381  0.7552974   0.6479302   0.9911363 ]\n",
      "Predictions from Lasso CV: [0.56701031 0.56701031 0.56701031 0.56701031 0.56701031 0.56701031\n",
      " 0.56701031 0.56701031 0.56701031 0.56701031]\n",
      "Predictions from ElasticNet CV: [0.56701031 0.56701031 0.56701031 0.56701031 0.56701031 0.56701031\n",
      " 0.56701031 0.56701031 0.56701031 0.56701031]\n",
      "Predictions from Hyperparameter Tuned Ridge: [-0.87498342 -0.27763929  0.27729379  0.69463764 -0.56174098  1.64910973\n",
      "  0.92670381  0.7552974   0.6479302   0.9911363 ]\n",
      "Predictions from Hyperparameter Tuned Lasso: [0.56701031 0.56701031 0.56701031 0.56701031 0.56701031 0.56701031\n",
      " 0.56701031 0.56701031 0.56701031 0.56701031]\n",
      "Predictions from Hyperparameter Tuned ElasticNet: [0.56701031 0.56701031 0.56701031 0.56701031 0.56701031 0.56701031\n",
      " 0.56701031 0.56701031 0.56701031 0.56701031]\n",
      "   Ridge Regression  Lasso Regression  Linear Regression  ElasticNet  \\\n",
      "0         -0.874983           0.56701          -0.114953     0.56701   \n",
      "1         -0.277639           0.56701          -0.199159     0.56701   \n",
      "2          0.277294           0.56701          -0.462691     0.56701   \n",
      "3          0.694638           0.56701           0.489119     0.56701   \n",
      "4         -0.561741           0.56701          -1.079693     0.56701   \n",
      "5          1.649110           0.56701           1.335334     0.56701   \n",
      "6          0.926704           0.56701           1.305438     0.56701   \n",
      "7          0.755297           0.56701           0.203090     0.56701   \n",
      "8          0.647930           0.56701           0.732220     0.56701   \n",
      "9          0.991136           0.56701           0.904315     0.56701   \n",
      "\n",
      "   Ridge CV  Lasso CV  ElasticNet CV  Hyperparameter Tuned Ridge  \\\n",
      "0 -0.874983   0.56701        0.56701                   -0.874983   \n",
      "1 -0.277639   0.56701        0.56701                   -0.277639   \n",
      "2  0.277294   0.56701        0.56701                    0.277294   \n",
      "3  0.694638   0.56701        0.56701                    0.694638   \n",
      "4 -0.561741   0.56701        0.56701                   -0.561741   \n",
      "5  1.649110   0.56701        0.56701                    1.649110   \n",
      "6  0.926704   0.56701        0.56701                    0.926704   \n",
      "7  0.755297   0.56701        0.56701                    0.755297   \n",
      "8  0.647930   0.56701        0.56701                    0.647930   \n",
      "9  0.991136   0.56701        0.56701                    0.991136   \n",
      "\n",
      "   Hyperparameter Tuned Lasso  Hyperparameter Tuned ElasticNet  \n",
      "0                     0.56701                          0.56701  \n",
      "1                     0.56701                          0.56701  \n",
      "2                     0.56701                          0.56701  \n",
      "3                     0.56701                          0.56701  \n",
      "4                     0.56701                          0.56701  \n",
      "5                     0.56701                          0.56701  \n",
      "6                     0.56701                          0.56701  \n",
      "7                     0.56701                          0.56701  \n",
      "8                     0.56701                          0.56701  \n",
      "9                     0.56701                          0.56701  \n"
     ]
    }
   ],
   "source": [
    "import numpy as np\n",
    "\n",
    "# Initialize a dictionary to store model predictions\n",
    "model_predictions = {}\n",
    "\n",
    "# Dictionary of loaded models with their corresponding names\n",
    "models = {\n",
    "    \n",
    "    'Ridge Regression': ridge,\n",
    "    'Lasso Regression': lasso,\n",
    "    'Linear Regression': lr,\n",
    "    'ElasticNet': en,\n",
    "    'Ridge CV': ridge_CV,\n",
    "    'Lasso CV': lasso_CV,\n",
    "    'ElasticNet CV': elasticnet_CV,\n",
    "    'Hyperparameter Tuned Ridge': ridge_ht,\n",
    "    'Hyperparameter Tuned Lasso': lasso_ht,\n",
    "    'Hyperparameter Tuned ElasticNet': elasticnet_ht,\n",
    "}\n",
    "\n",
    "# Scale the input data using the loaded scaler\n",
    "scaled_data = sc.transform(df)\n",
    "\n",
    "# Iterate over each model to make predictions\n",
    "for model_name, model in models.items():\n",
    "    try:\n",
    "        # Make predictions on the scaled data\n",
    "        predictions = model.predict(scaled_data)\n",
    "        \n",
    "        # Store the predictions in the dictionary with the model name as the key\n",
    "        model_predictions[model_name] = predictions\n",
    "        \n",
    "        # Print the predictions from the current model\n",
    "        print(f\"Predictions from {model_name}: {predictions}\")\n",
    "    except Exception as e:\n",
    "        # Handle any errors that occur during predictions\n",
    "        print(f\"Error with model {model_name}: {e}\")\n",
    "\n",
    "\n",
    "\n",
    "# Convert the dictionary of predictions into a DataFrame for easier analysis\n",
    "predictions_df = pd.DataFrame(model_predictions)\n",
    "\n",
    "# Display the DataFrame containing predictions from all models\n",
    "print(predictions_df)\n"
   ]
  },
  {
   "cell_type": "markdown",
   "id": "6764e56c",
   "metadata": {},
   "source": [
    "Insights based on the prediction results you provided for various regression models:\n",
    "\n",
    "Diverse Predictions:\n",
    "\n",
    "The Ridge Regression and Ridge CV models produced negative predictions for some instances, indicating a potential issue with the model fitting, especially if negative values are not meaningful in your context.\n",
    "In contrast, Lasso Regression, ElasticNet, and their cross-validated variants consistently returned the same positive prediction (0.56701) for all instances, suggesting they may be overly simplified or encountering convergence issues.\n",
    "Linear Regression Performance:\n",
    "\n",
    "The Linear Regression model yielded a mix of positive and negative predictions, which may indicate a more balanced model fitting compared to Ridge Regression. However, the spread of the predictions still suggests that there may be a lack of robustness in the model for the given dataset.\n",
    "ElasticNet Consistency:\n",
    "\n",
    "The ElasticNet model and its hyperparameter-tuned counterpart returned the same results as Lasso, indicating that it might not be capturing the underlying data variability effectively. This can happen when the model is too regularized, leading to underfitting.\n",
    "Model Comparison:\n",
    "\n",
    "When comparing predictions across models, Ridge models produced more varied outputs, while Lasso and ElasticNet resulted in constant predictions. This could suggest that Ridge Regression is more sensitive to the input data variability compared to the Lasso and ElasticNet models, which might be reducing complexity excessively.\n",
    "Hyperparameter Tuning Impact:\n",
    "\n",
    "The hyperparameter-tuned models (Ridge HT, Lasso HT, and ElasticNet HT) reflect the same patterns as their respective non-tuned versions. This indicates that hyperparameter tuning did not significantly change the predictive power of these models in this case.\n",
    "Evaluation Considerations:\n",
    "\n",
    "The observed predictions raise concerns about model performance and generalization. Consider evaluating the models using metrics such as Mean Squared Error (MSE) and R-squared values to quantify their accuracy and fit.\n",
    "The model selection may need to be revisited, possibly by exploring additional hyperparameter tuning, feature engineering, or even using ensemble methods for better predictive performance."
   ]
  },
  {
   "cell_type": "code",
   "execution_count": null,
   "id": "8f55a622-e480-40d8-8664-eef8d97cfd69",
   "metadata": {},
   "outputs": [],
   "source": []
  }
 ],
 "metadata": {
  "kernelspec": {
   "display_name": "Python 3 (ipykernel)",
   "language": "python",
   "name": "python3"
  },
  "language_info": {
   "codemirror_mode": {
    "name": "ipython",
    "version": 3
   },
   "file_extension": ".py",
   "mimetype": "text/x-python",
   "name": "python",
   "nbconvert_exporter": "python",
   "pygments_lexer": "ipython3",
   "version": "3.11.5"
  }
 },
 "nbformat": 4,
 "nbformat_minor": 5
}
